{
 "cells": [
  {
   "cell_type": "code",
   "execution_count": 2,
   "metadata": {},
   "outputs": [],
   "source": [
    "import numpy as np\n",
    "import pandas as pd\n",
    "import seaborn as sns\n",
    "import matplotlib.pyplot as plt\n",
    "%matplotlib inline\n",
    "import warnings\n",
    "warnings.filterwarnings('ignore')\n"
   ]
  },
  {
   "cell_type": "code",
   "execution_count": 3,
   "metadata": {},
   "outputs": [],
   "source": [
    "df = pd.read_csv('data\\doctor_recommendation_system.csv') "
   ]
  },
  {
   "cell_type": "code",
   "execution_count": 4,
   "metadata": {},
   "outputs": [
    {
     "data": {
      "text/html": [
       "<div>\n",
       "<style scoped>\n",
       "    .dataframe tbody tr th:only-of-type {\n",
       "        vertical-align: middle;\n",
       "    }\n",
       "\n",
       "    .dataframe tbody tr th {\n",
       "        vertical-align: top;\n",
       "    }\n",
       "\n",
       "    .dataframe thead th {\n",
       "        text-align: right;\n",
       "    }\n",
       "</style>\n",
       "<table border=\"1\" class=\"dataframe\">\n",
       "  <thead>\n",
       "    <tr style=\"text-align: right;\">\n",
       "      <th></th>\n",
       "      <th>Doctor Name</th>\n",
       "      <th>Specialty</th>\n",
       "      <th>Hospital</th>\n",
       "      <th>Insurance Provider</th>\n",
       "      <th>Gender</th>\n",
       "      <th>Medical Condition</th>\n",
       "      <th>City</th>\n",
       "      <th>Address</th>\n",
       "      <th>Age</th>\n",
       "      <th>Years of Experience</th>\n",
       "      <th>Consultation Fees ($)</th>\n",
       "      <th>Billing Amount ($)</th>\n",
       "      <th>Rating</th>\n",
       "      <th>Number of Reviews</th>\n",
       "    </tr>\n",
       "  </thead>\n",
       "  <tbody>\n",
       "    <tr>\n",
       "      <th>0</th>\n",
       "      <td>Dr. Patel</td>\n",
       "      <td>Dermatology</td>\n",
       "      <td>General Hospital</td>\n",
       "      <td>United Healthcare</td>\n",
       "      <td>Male</td>\n",
       "      <td>COPD</td>\n",
       "      <td>San Jose</td>\n",
       "      <td>123 Main St</td>\n",
       "      <td>68</td>\n",
       "      <td>36</td>\n",
       "      <td>472</td>\n",
       "      <td>7551</td>\n",
       "      <td>1.6</td>\n",
       "      <td>167</td>\n",
       "    </tr>\n",
       "    <tr>\n",
       "      <th>1</th>\n",
       "      <td>Dr. Martinez</td>\n",
       "      <td>Orthopedics</td>\n",
       "      <td>Health Clinic</td>\n",
       "      <td>Aetna</td>\n",
       "      <td>Male</td>\n",
       "      <td>Depression</td>\n",
       "      <td>Phoenix</td>\n",
       "      <td>404 Birch St</td>\n",
       "      <td>69</td>\n",
       "      <td>8</td>\n",
       "      <td>335</td>\n",
       "      <td>557</td>\n",
       "      <td>1.3</td>\n",
       "      <td>239</td>\n",
       "    </tr>\n",
       "    <tr>\n",
       "      <th>2</th>\n",
       "      <td>Dr. Williams</td>\n",
       "      <td>Psychiatry</td>\n",
       "      <td>Health Clinic</td>\n",
       "      <td>Aetna</td>\n",
       "      <td>Female</td>\n",
       "      <td>Cancer</td>\n",
       "      <td>Philadelphia</td>\n",
       "      <td>606 Walnut St</td>\n",
       "      <td>53</td>\n",
       "      <td>4</td>\n",
       "      <td>431</td>\n",
       "      <td>915</td>\n",
       "      <td>4.6</td>\n",
       "      <td>230</td>\n",
       "    </tr>\n",
       "    <tr>\n",
       "      <th>3</th>\n",
       "      <td>Dr. Martinez</td>\n",
       "      <td>Orthopedics</td>\n",
       "      <td>City Hospital</td>\n",
       "      <td>Aetna</td>\n",
       "      <td>Male</td>\n",
       "      <td>Arthritis</td>\n",
       "      <td>Phoenix</td>\n",
       "      <td>456 Elm St</td>\n",
       "      <td>28</td>\n",
       "      <td>24</td>\n",
       "      <td>417</td>\n",
       "      <td>9783</td>\n",
       "      <td>2.0</td>\n",
       "      <td>162</td>\n",
       "    </tr>\n",
       "    <tr>\n",
       "      <th>4</th>\n",
       "      <td>Dr. Smith</td>\n",
       "      <td>Endocrinology</td>\n",
       "      <td>Health Clinic</td>\n",
       "      <td>United Healthcare</td>\n",
       "      <td>Female</td>\n",
       "      <td>Heart Disease</td>\n",
       "      <td>San Jose</td>\n",
       "      <td>101 Oak St</td>\n",
       "      <td>37</td>\n",
       "      <td>2</td>\n",
       "      <td>65</td>\n",
       "      <td>2339</td>\n",
       "      <td>3.0</td>\n",
       "      <td>217</td>\n",
       "    </tr>\n",
       "  </tbody>\n",
       "</table>\n",
       "</div>"
      ],
      "text/plain": [
       "    Doctor Name      Specialty          Hospital Insurance Provider  Gender  \\\n",
       "0     Dr. Patel    Dermatology  General Hospital  United Healthcare    Male   \n",
       "1  Dr. Martinez    Orthopedics     Health Clinic              Aetna    Male   \n",
       "2  Dr. Williams     Psychiatry     Health Clinic              Aetna  Female   \n",
       "3  Dr. Martinez    Orthopedics     City Hospital              Aetna    Male   \n",
       "4     Dr. Smith  Endocrinology     Health Clinic  United Healthcare  Female   \n",
       "\n",
       "  Medical Condition          City        Address  Age  Years of Experience  \\\n",
       "0              COPD      San Jose    123 Main St   68                   36   \n",
       "1        Depression       Phoenix   404 Birch St   69                    8   \n",
       "2            Cancer  Philadelphia  606 Walnut St   53                    4   \n",
       "3         Arthritis       Phoenix     456 Elm St   28                   24   \n",
       "4     Heart Disease      San Jose     101 Oak St   37                    2   \n",
       "\n",
       "   Consultation Fees ($)  Billing Amount ($)  Rating  Number of Reviews  \n",
       "0                    472                7551     1.6                167  \n",
       "1                    335                 557     1.3                239  \n",
       "2                    431                 915     4.6                230  \n",
       "3                    417                9783     2.0                162  \n",
       "4                     65                2339     3.0                217  "
      ]
     },
     "execution_count": 4,
     "metadata": {},
     "output_type": "execute_result"
    }
   ],
   "source": [
    "df.head()"
   ]
  },
  {
   "cell_type": "code",
   "execution_count": 5,
   "metadata": {},
   "outputs": [
    {
     "data": {
      "text/plain": [
       "(5000, 14)"
      ]
     },
     "execution_count": 5,
     "metadata": {},
     "output_type": "execute_result"
    }
   ],
   "source": [
    "df.shape"
   ]
  },
  {
   "cell_type": "markdown",
   "metadata": {},
   "source": [
    "### 2. Dataset Information"
   ]
  },
  {
   "cell_type": "markdown",
   "metadata": {},
   "source": [
    "### 3. Data Checks to perform \n",
    "* Check Missing \n",
    "* Check Duplicates\n",
    "* Check data type\n",
    "* Check the number of unique values of each column\n",
    "* Check statistics of dataset\n",
    "* Check various categories present in the different categorical column"
   ]
  },
  {
   "cell_type": "markdown",
   "metadata": {},
   "source": [
    "### 3.1 Check Missing Values "
   ]
  },
  {
   "cell_type": "code",
   "execution_count": 6,
   "metadata": {},
   "outputs": [
    {
     "data": {
      "text/plain": [
       "Doctor Name              0\n",
       "Specialty                0\n",
       "Hospital                 0\n",
       "Insurance Provider       0\n",
       "Gender                   0\n",
       "Medical Condition        0\n",
       "City                     0\n",
       "Address                  0\n",
       "Age                      0\n",
       "Years of Experience      0\n",
       "Consultation Fees ($)    0\n",
       "Billing Amount ($)       0\n",
       "Rating                   0\n",
       "Number of Reviews        0\n",
       "dtype: int64"
      ]
     },
     "execution_count": 6,
     "metadata": {},
     "output_type": "execute_result"
    }
   ],
   "source": [
    "df.isna().sum()"
   ]
  },
  {
   "cell_type": "markdown",
   "metadata": {},
   "source": [
    "There are no missing values in the dataset"
   ]
  },
  {
   "cell_type": "markdown",
   "metadata": {},
   "source": [
    "### 3.2 Check Duplicates"
   ]
  },
  {
   "cell_type": "code",
   "execution_count": 7,
   "metadata": {},
   "outputs": [
    {
     "name": "stdout",
     "output_type": "stream",
     "text": [
      "0\n"
     ]
    }
   ],
   "source": [
    "print(df.duplicated().sum()) "
   ]
  },
  {
   "cell_type": "markdown",
   "metadata": {},
   "source": [
    "There are no duplicate values in the dataset"
   ]
  },
  {
   "cell_type": "markdown",
   "metadata": {},
   "source": [
    "### 3.3 Check data types"
   ]
  },
  {
   "cell_type": "code",
   "execution_count": 8,
   "metadata": {},
   "outputs": [
    {
     "name": "stdout",
     "output_type": "stream",
     "text": [
      "<class 'pandas.core.frame.DataFrame'>\n",
      "RangeIndex: 5000 entries, 0 to 4999\n",
      "Data columns (total 14 columns):\n",
      " #   Column                 Non-Null Count  Dtype  \n",
      "---  ------                 --------------  -----  \n",
      " 0   Doctor Name            5000 non-null   object \n",
      " 1   Specialty              5000 non-null   object \n",
      " 2   Hospital               5000 non-null   object \n",
      " 3   Insurance Provider     5000 non-null   object \n",
      " 4   Gender                 5000 non-null   object \n",
      " 5   Medical Condition      5000 non-null   object \n",
      " 6   City                   5000 non-null   object \n",
      " 7   Address                5000 non-null   object \n",
      " 8   Age                    5000 non-null   int64  \n",
      " 9   Years of Experience    5000 non-null   int64  \n",
      " 10  Consultation Fees ($)  5000 non-null   int64  \n",
      " 11  Billing Amount ($)     5000 non-null   int64  \n",
      " 12  Rating                 5000 non-null   float64\n",
      " 13  Number of Reviews      5000 non-null   int64  \n",
      "dtypes: float64(1), int64(5), object(8)\n",
      "memory usage: 547.0+ KB\n"
     ]
    }
   ],
   "source": [
    "# Check Null and Dtypes\n",
    "df.info()"
   ]
  },
  {
   "cell_type": "markdown",
   "metadata": {},
   "source": [
    "### 3.4 Checking the number of unique values of each column"
   ]
  },
  {
   "cell_type": "code",
   "execution_count": 9,
   "metadata": {},
   "outputs": [
    {
     "data": {
      "text/plain": [
       "Doctor Name                10\n",
       "Specialty                  10\n",
       "Hospital                    5\n",
       "Insurance Provider          6\n",
       "Gender                      2\n",
       "Medical Condition          10\n",
       "City                       10\n",
       "Address                    10\n",
       "Age                        51\n",
       "Years of Experience        40\n",
       "Consultation Fees ($)     451\n",
       "Billing Amount ($)       3922\n",
       "Rating                     41\n",
       "Number of Reviews         501\n",
       "dtype: int64"
      ]
     },
     "execution_count": 9,
     "metadata": {},
     "output_type": "execute_result"
    }
   ],
   "source": [
    "df.nunique()"
   ]
  },
  {
   "cell_type": "markdown",
   "metadata": {},
   "source": [
    "### 3.5 Check statistics of data set"
   ]
  },
  {
   "cell_type": "code",
   "execution_count": 10,
   "metadata": {},
   "outputs": [
    {
     "data": {
      "text/html": [
       "<div>\n",
       "<style scoped>\n",
       "    .dataframe tbody tr th:only-of-type {\n",
       "        vertical-align: middle;\n",
       "    }\n",
       "\n",
       "    .dataframe tbody tr th {\n",
       "        vertical-align: top;\n",
       "    }\n",
       "\n",
       "    .dataframe thead th {\n",
       "        text-align: right;\n",
       "    }\n",
       "</style>\n",
       "<table border=\"1\" class=\"dataframe\">\n",
       "  <thead>\n",
       "    <tr style=\"text-align: right;\">\n",
       "      <th></th>\n",
       "      <th>Age</th>\n",
       "      <th>Years of Experience</th>\n",
       "      <th>Consultation Fees ($)</th>\n",
       "      <th>Billing Amount ($)</th>\n",
       "      <th>Rating</th>\n",
       "      <th>Number of Reviews</th>\n",
       "    </tr>\n",
       "  </thead>\n",
       "  <tbody>\n",
       "    <tr>\n",
       "      <th>count</th>\n",
       "      <td>5000.000000</td>\n",
       "      <td>5000.00000</td>\n",
       "      <td>5000.00000</td>\n",
       "      <td>5000.000000</td>\n",
       "      <td>5000.000000</td>\n",
       "      <td>5000.000000</td>\n",
       "    </tr>\n",
       "    <tr>\n",
       "      <th>mean</th>\n",
       "      <td>44.792400</td>\n",
       "      <td>20.39120</td>\n",
       "      <td>274.36280</td>\n",
       "      <td>5040.936800</td>\n",
       "      <td>2.991380</td>\n",
       "      <td>252.486800</td>\n",
       "    </tr>\n",
       "    <tr>\n",
       "      <th>std</th>\n",
       "      <td>14.662711</td>\n",
       "      <td>11.64325</td>\n",
       "      <td>131.06698</td>\n",
       "      <td>2858.798044</td>\n",
       "      <td>1.151844</td>\n",
       "      <td>144.124246</td>\n",
       "    </tr>\n",
       "    <tr>\n",
       "      <th>min</th>\n",
       "      <td>20.000000</td>\n",
       "      <td>1.00000</td>\n",
       "      <td>50.00000</td>\n",
       "      <td>103.000000</td>\n",
       "      <td>1.000000</td>\n",
       "      <td>0.000000</td>\n",
       "    </tr>\n",
       "    <tr>\n",
       "      <th>25%</th>\n",
       "      <td>32.000000</td>\n",
       "      <td>10.00000</td>\n",
       "      <td>158.75000</td>\n",
       "      <td>2550.750000</td>\n",
       "      <td>2.000000</td>\n",
       "      <td>128.000000</td>\n",
       "    </tr>\n",
       "    <tr>\n",
       "      <th>50%</th>\n",
       "      <td>45.000000</td>\n",
       "      <td>20.00000</td>\n",
       "      <td>275.00000</td>\n",
       "      <td>5057.000000</td>\n",
       "      <td>3.000000</td>\n",
       "      <td>253.000000</td>\n",
       "    </tr>\n",
       "    <tr>\n",
       "      <th>75%</th>\n",
       "      <td>57.000000</td>\n",
       "      <td>31.00000</td>\n",
       "      <td>390.00000</td>\n",
       "      <td>7487.500000</td>\n",
       "      <td>4.000000</td>\n",
       "      <td>377.000000</td>\n",
       "    </tr>\n",
       "    <tr>\n",
       "      <th>max</th>\n",
       "      <td>70.000000</td>\n",
       "      <td>40.00000</td>\n",
       "      <td>500.00000</td>\n",
       "      <td>10000.000000</td>\n",
       "      <td>5.000000</td>\n",
       "      <td>500.000000</td>\n",
       "    </tr>\n",
       "  </tbody>\n",
       "</table>\n",
       "</div>"
      ],
      "text/plain": [
       "               Age  Years of Experience  Consultation Fees ($)  \\\n",
       "count  5000.000000           5000.00000             5000.00000   \n",
       "mean     44.792400             20.39120              274.36280   \n",
       "std      14.662711             11.64325              131.06698   \n",
       "min      20.000000              1.00000               50.00000   \n",
       "25%      32.000000             10.00000              158.75000   \n",
       "50%      45.000000             20.00000              275.00000   \n",
       "75%      57.000000             31.00000              390.00000   \n",
       "max      70.000000             40.00000              500.00000   \n",
       "\n",
       "       Billing Amount ($)       Rating  Number of Reviews  \n",
       "count         5000.000000  5000.000000        5000.000000  \n",
       "mean          5040.936800     2.991380         252.486800  \n",
       "std           2858.798044     1.151844         144.124246  \n",
       "min            103.000000     1.000000           0.000000  \n",
       "25%           2550.750000     2.000000         128.000000  \n",
       "50%           5057.000000     3.000000         253.000000  \n",
       "75%           7487.500000     4.000000         377.000000  \n",
       "max          10000.000000     5.000000         500.000000  "
      ]
     },
     "execution_count": 10,
     "metadata": {},
     "output_type": "execute_result"
    }
   ],
   "source": [
    "df.describe()"
   ]
  },
  {
   "cell_type": "markdown",
   "metadata": {},
   "source": [
    "<b>3.6 Insight</b>\n",
    "* From above description of numerical data, we can see that the mean age of doctors is 44,\n",
    "  the mean years of experience in 20, consultation fees is approximately $270 and billing amount is $5000.\n",
    "  "
   ]
  },
  {
   "cell_type": "markdown",
   "metadata": {},
   "source": [
    "### Checking the data types"
   ]
  },
  {
   "cell_type": "code",
   "execution_count": 11,
   "metadata": {},
   "outputs": [
    {
     "name": "stdout",
     "output_type": "stream",
     "text": [
      "<class 'pandas.core.frame.DataFrame'>\n",
      "RangeIndex: 5000 entries, 0 to 4999\n",
      "Data columns (total 14 columns):\n",
      " #   Column                 Non-Null Count  Dtype  \n",
      "---  ------                 --------------  -----  \n",
      " 0   Doctor Name            5000 non-null   object \n",
      " 1   Specialty              5000 non-null   object \n",
      " 2   Hospital               5000 non-null   object \n",
      " 3   Insurance Provider     5000 non-null   object \n",
      " 4   Gender                 5000 non-null   object \n",
      " 5   Medical Condition      5000 non-null   object \n",
      " 6   City                   5000 non-null   object \n",
      " 7   Address                5000 non-null   object \n",
      " 8   Age                    5000 non-null   int64  \n",
      " 9   Years of Experience    5000 non-null   int64  \n",
      " 10  Consultation Fees ($)  5000 non-null   int64  \n",
      " 11  Billing Amount ($)     5000 non-null   int64  \n",
      " 12  Rating                 5000 non-null   float64\n",
      " 13  Number of Reviews      5000 non-null   int64  \n",
      "dtypes: float64(1), int64(5), object(8)\n",
      "memory usage: 547.0+ KB\n"
     ]
    }
   ],
   "source": [
    "df.info()"
   ]
  },
  {
   "cell_type": "markdown",
   "metadata": {},
   "source": [
    "### 3.7 Exploring Data"
   ]
  },
  {
   "cell_type": "code",
   "execution_count": 12,
   "metadata": {},
   "outputs": [
    {
     "name": "stdout",
     "output_type": "stream",
     "text": [
      "Categories in specialty:  ['Dermatology' 'Orthopedics' 'Psychiatry' 'Endocrinology'\n",
      " 'Gastroenterology' 'Oncology' 'Cardiology' 'Ophthalmology' 'Pediatrics'\n",
      " 'Neurology']\n",
      "\n",
      "\n",
      "Categories in hospital:  ['General Hospital' 'Health Clinic' 'City Hospital' 'Specialty Hospital'\n",
      " 'Regional Medical Center']\n",
      "\n",
      "\n",
      "Categories in hospital:  ['General Hospital' 'Health Clinic' 'City Hospital' 'Specialty Hospital'\n",
      " 'Regional Medical Center']\n",
      "\n",
      "\n",
      "Categories in insurance:  ['United Healthcare' 'Aetna' 'Medicaid' 'Cigna' 'Medicare' 'Blue Cross']\n",
      "\n",
      "\n",
      "Categories in medical condition:  ['COPD' 'Depression' 'Cancer' 'Arthritis' 'Heart Disease' 'Diabetes'\n",
      " 'Migraine' 'Hypertension' 'Asthma' 'Obesity']\n"
     ]
    }
   ],
   "source": [
    "print(\"Categories in specialty: \", end=\" \")\n",
    "print(df['Specialty'].unique())\n",
    "print('\\n')\n",
    "print(\"Categories in hospital: \", end=\" \")\n",
    "print(df['Hospital'].unique())\n",
    "print('\\n')\n",
    "print(\"Categories in hospital: \", end=\" \")\n",
    "print(df['Hospital'].unique())\n",
    "print('\\n')\n",
    "print(\"Categories in insurance: \", end=\" \")\n",
    "print(df['Insurance Provider'].unique())\n",
    "print('\\n')\n",
    "print(\"Categories in medical condition: \", end=\" \")\n",
    "print(df['Medical Condition'].unique())\n"
   ]
  },
  {
   "cell_type": "code",
   "execution_count": 13,
   "metadata": {},
   "outputs": [
    {
     "name": "stdout",
     "output_type": "stream",
     "text": [
      "We have 14 numerical features: ['Doctor Name', 'Specialty', 'Hospital', 'Insurance Provider', 'Gender', 'Medical Condition', 'City', 'Address', 'Age', 'Years of Experience', 'Consultation Fees ($)', 'Billing Amount ($)', 'Rating', 'Number of Reviews']\n",
      "\n",
      "We have 0 categorical features : []\n"
     ]
    }
   ],
   "source": [
    "# define numerical & categorical columns\n",
    "\n",
    "numeric_features = [feature for feature in df.columns if df[feature].dtype !=0]\n",
    "categorical_features = [feature for feature in df.columns if df[feature].dtype == '0']\n",
    "\n",
    "# print columns\n",
    "print('We have {} numerical features: {}'.format(len(numeric_features),numeric_features))\n",
    "print('\\nWe have {} categorical features : {}'.format(len(categorical_features), categorical_features))\n"
   ]
  },
  {
   "cell_type": "markdown",
   "metadata": {},
   "source": [
    "### 3.8 Adding columns for \"Total Score\" and \"Average\""
   ]
  },
  {
   "cell_type": "markdown",
   "metadata": {},
   "source": [
    "### 4. Exploring Data (Visualization)"
   ]
  },
  {
   "cell_type": "markdown",
   "metadata": {},
   "source": [
    "### 4.1 Visualize average score distribution to make some conclusion"
   ]
  },
  {
   "cell_type": "markdown",
   "metadata": {},
   "source": [
    "* Histogram\n",
    "* Kernal Distribution Function (KDE)"
   ]
  },
  {
   "cell_type": "markdown",
   "metadata": {},
   "source": [
    "### 4.1.1 Histogram & KDE"
   ]
  },
  {
   "cell_type": "code",
   "execution_count": null,
   "metadata": {},
   "outputs": [],
   "source": []
  }
 ],
 "metadata": {
  "kernelspec": {
   "display_name": "venv",
   "language": "python",
   "name": "python3"
  },
  "language_info": {
   "codemirror_mode": {
    "name": "ipython",
    "version": 3
   },
   "file_extension": ".py",
   "mimetype": "text/x-python",
   "name": "python",
   "nbconvert_exporter": "python",
   "pygments_lexer": "ipython3",
   "version": "3.12.4"
  }
 },
 "nbformat": 4,
 "nbformat_minor": 2
}
